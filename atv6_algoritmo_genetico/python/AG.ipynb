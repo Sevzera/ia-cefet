{
 "cells": [
  {
   "cell_type": "code",
   "execution_count": null,
   "metadata": {},
   "outputs": [],
   "source": [
    "from src.individual import Individual\n",
    "import numpy as np"
   ]
  },
  {
   "cell_type": "code",
   "execution_count": null,
   "metadata": {},
   "outputs": [],
   "source": [
    "def fitnessFunction(x, y):\n",
    "    result = (\n",
    "        np.sin(x) * np.exp((1 - np.cos(y))**2) +\n",
    "        np.cos(y) * np.exp((1 - np.sin(x))**2) +\n",
    "        (x - y)**2\n",
    "    )\n",
    "    return round(result, 2)"
   ]
  },
  {
   "cell_type": "code",
   "execution_count": null,
   "metadata": {},
   "outputs": [],
   "source": [
    "def linearMappingFunction(i, N):\n",
    "    min = 0\n",
    "    max = 100\n",
    "    result = min + (max - min) * ((N - i) / (N - 1))\n",
    "    return round(result)"
   ]
  },
  {
   "cell_type": "code",
   "execution_count": null,
   "metadata": {},
   "outputs": [],
   "source": [
    "def crossover (mother, father):\n",
    "\tmotherXRate = np.random.rand()\n",
    "\tfatherXRate = 1 - motherXRate\n",
    "\tx = round(motherXRate * mother.x + fatherXRate * father.x, 5)\n",
    "\n",
    "\tmotherYRate = np.random.rand()\n",
    "\tfatherYRate = 1 - motherXRate\n",
    "\ty = round(motherYRate * mother.y + fatherYRate * father.y, 5)\n",
    "\n",
    "\treturn Individual(x, y)"
   ]
  },
  {
   "cell_type": "code",
   "execution_count": null,
   "metadata": {},
   "outputs": [],
   "source": [
    "def generateIndividual():\n",
    "    return Individual(\n",
    "        round(np.random.uniform(-10, 10), 5),\n",
    "        round(np.random.uniform(-10, 10), 5)\n",
    "    )"
   ]
  },
  {
   "cell_type": "code",
   "execution_count": null,
   "metadata": {},
   "outputs": [],
   "source": [
    "def sortPopulation(population):\n",
    "    return sorted(population, key=lambda individual: individual.fitness)"
   ]
  },
  {
   "cell_type": "code",
   "execution_count": null,
   "metadata": {},
   "outputs": [],
   "source": [
    "N = 100\n",
    "Nsum = 5050\n",
    "\n",
    "population = []\n",
    "for i in range(N):\n",
    "    population.append(generateIndividual())\n",
    "    population[i].calculateFitness(fitnessFunction)\n",
    "\n",
    "population = sortPopulation(population)\n",
    "\n",
    "for i in range(N):\n",
    "    population[i].calculateMapFitness(linearMappingFunction, i + 1, N)\n",
    "\n",
    "children = []\n",
    "for i in range(N):\n",
    "\tchildren.append(0)\n",
    "\n",
    "n = 0\n",
    "\n",
    "while (n < 1000):\n",
    "\tpairs = []\n",
    "\tfor i in range(0, N):\n",
    "\t\todd = round(np.random.rand() * Nsum)\n",
    "\t\tsum = 0\n",
    "\t\tfor j in range(1, N):\n",
    "\t\t\tsum += j\n",
    "\t\t\tif (sum >= odd): break\n",
    "\t\taux = None\n",
    "\t\tfor individual in population:\n",
    "\t\t\tif (individual.mappedFitness == j):\n",
    "\t\t\t\taux = individual\n",
    "\t\t\t\tpairs.append(individual)\t\t\t\t\n",
    "\t\t\t\tbreak\n",
    "\t\tif aux == None:\n",
    "\t\t\tpairs.append(population[0])\n",
    "\n",
    "\tfor i in range(0, N, 2):\n",
    "\t\tif np.random.rand() < 0.7:\n",
    "\t\t\tchildren[i] = crossover(pairs[i], pairs[i + 1])\n",
    "\t\t\tchildren[i + 1] = crossover(pairs[i], pairs[i + 1])\n",
    "\t\telse:\n",
    "\t\t\tchildren[i] = Individual(pairs[i].x, pairs[i].y)\n",
    "\t\t\tchildren[i + 1] = Individual(pairs[i + 1].x, pairs[i + 1].y)\n",
    "\t\t\n",
    "\t\tchildren[i].calculateFitness(fitnessFunction)\n",
    "\t\tchildren[i + 1].calculateFitness(fitnessFunction)\n",
    "\n",
    "\t\tchildren[i].tryToMutate()\n",
    "\t\tchildren[i + 1].tryToMutate()\n",
    "\n",
    "\tchildren = sortPopulation(children)\n",
    "\n",
    "\tfor i in range(N):\n",
    "\t\tchildren[i].calculateMapFitness(linearMappingFunction, i + 1, N)\n",
    "\n",
    "\tpopulation = children\n",
    "\tif n % 10 == 0:\n",
    "\t\tprint(\"Best individual for generation \" + str(n) + \": \" + str(population[0].__str__()))\n",
    "\tn += 1\n",
    "\n",
    "print(\"Best individual: \" + str(population[0].__str__()))"
   ]
  }
 ],
 "metadata": {
  "kernelspec": {
   "display_name": "Python 3.10.6 64-bit",
   "language": "python",
   "name": "python3"
  },
  "language_info": {
   "codemirror_mode": {
    "name": "ipython",
    "version": 3
   },
   "file_extension": ".py",
   "mimetype": "text/x-python",
   "name": "python",
   "nbconvert_exporter": "python",
   "pygments_lexer": "ipython3",
   "version": "3.10.6"
  },
  "orig_nbformat": 4,
  "vscode": {
   "interpreter": {
    "hash": "3929c3f47566e69fbcdd5019eb8c5f4d7c703d0038b405f4a9cdb4af690e1a93"
   }
  }
 },
 "nbformat": 4,
 "nbformat_minor": 2
}
