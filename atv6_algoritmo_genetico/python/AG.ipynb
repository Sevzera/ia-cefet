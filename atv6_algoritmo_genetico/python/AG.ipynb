{
 "cells": [
  {
   "cell_type": "code",
   "execution_count": 1,
   "metadata": {},
   "outputs": [],
   "source": [
    "from src.chromosome import Chromosome\n",
    "import numpy as np"
   ]
  },
  {
   "cell_type": "code",
   "execution_count": 2,
   "metadata": {},
   "outputs": [],
   "source": [
    "def fitnessFunction(x, y):\n",
    "    result = (\n",
    "        np.sin(x) * np.exp((1 - np.cos(y))**2) +\n",
    "        np.cos(y) * np.exp((1 - np.sin(x))**2) +\n",
    "        (x - y)**2\n",
    "    )\n",
    "    return round(result, 2)"
   ]
  },
  {
   "cell_type": "code",
   "execution_count": 3,
   "metadata": {},
   "outputs": [],
   "source": [
    "def linearMappingFunction(i, N):\n",
    "    min = 0\n",
    "    max = 100\n",
    "    result = min + (max - min) * ((N - i) / (N - 1))\n",
    "    return round(result, 2)"
   ]
  },
  {
   "cell_type": "code",
   "execution_count": 4,
   "metadata": {},
   "outputs": [],
   "source": [
    "def generateChromosome():\n",
    "    return Chromosome(\n",
    "        round(np.random.uniform(-10, 10), 2),\n",
    "        round(np.random.uniform(-10, 10), 2)\n",
    "    )"
   ]
  },
  {
   "cell_type": "code",
   "execution_count": 5,
   "metadata": {},
   "outputs": [],
   "source": [
    "def sortChromosomes(chromosomes):\n",
    "    return sorted(chromosomes, key=lambda chromosome: chromosome.fitness)"
   ]
  },
  {
   "cell_type": "code",
   "execution_count": 6,
   "metadata": {},
   "outputs": [
    {
     "name": "stdout",
     "output_type": "stream",
     "text": [
      "x: 5.31     y: 9.73     Fitness: -44.89     Mapped Fitness: 100.0\n",
      "x: 4.45     y: -3.1     Fitness: -43.17     Mapped Fitness: 98.99\n",
      "x: -7.68     y: -2.43     Fitness: -32.98     Mapped Fitness: 97.98\n",
      "x: 4.87     y: 4.35     Fitness: -24.34     Mapped Fitness: 96.97\n",
      "x: -1.51     y: -1.8     Fitness: -16.73     Mapped Fitness: 95.96\n",
      "x: 9.61     y: 9.71     Fitness: -12.46     Mapped Fitness: 94.95\n",
      "x: 9.77     y: 8.59     Fitness: -8.16     Mapped Fitness: 93.94\n",
      "x: 0.79     y: 1.02     Fitness: 1.51     Mapped Fitness: 92.93\n",
      "x: 0.12     y: 0.57     Fitness: 2.15     Mapped Fitness: 91.92\n",
      "x: 6.04     y: 5.08     Fitness: 2.23     Mapped Fitness: 90.91\n",
      "x: -0.03     y: -1.83     Fitness: 2.35     Mapped Fitness: 89.9\n",
      "x: 6.59     y: 5.67     Fitness: 2.49     Mapped Fitness: 88.89\n",
      "x: -0.12     y: -0.58     Fitness: 3.02     Mapped Fitness: 87.88\n",
      "x: 0.12     y: -1.56     Fitness: 3.16     Mapped Fitness: 86.87\n",
      "x: -5.85     y: -4.22     Fitness: 5.67     Mapped Fitness: 85.86\n",
      "x: -9.22     y: -7.2     Fitness: 6.43     Mapped Fitness: 84.85\n",
      "x: 6.36     y: 8.85     Fitness: 6.49     Mapped Fitness: 83.84\n",
      "x: -3.94     y: -6.16     Fitness: 6.72     Mapped Fitness: 82.83\n",
      "x: -2.54     y: -1.03     Fitness: 7.54     Mapped Fitness: 81.82\n",
      "x: 0.11     y: -2.52     Fitness: 8.06     Mapped Fitness: 80.81\n",
      "x: -3.33     y: -5.83     Fitness: 8.18     Mapped Fitness: 79.8\n",
      "x: 0.69     y: -1.76     Fitness: 8.4     Mapped Fitness: 78.79\n",
      "x: -3.46     y: -6.18     Fitness: 9.31     Mapped Fitness: 77.78\n",
      "x: -3.09     y: -5.76     Fitness: 9.69     Mapped Fitness: 76.77\n",
      "x: -9.87     y: -8.72     Fitness: 9.87     Mapped Fitness: 75.76\n",
      "x: 6.07     y: 2.18     Fitness: 10.14     Mapped Fitness: 74.75\n",
      "x: 9.0     y: 6.06     Fitness: 10.43     Mapped Fitness: 73.74\n",
      "x: 9.06     y: 8.95     Fitness: 11.33     Mapped Fitness: 72.73\n",
      "x: -3.08     y: -0.17     Fitness: 11.45     Mapped Fitness: 71.72\n",
      "x: -4.16     y: -2.11     Fitness: 12.09     Mapped Fitness: 70.71\n",
      "x: 1.08     y: -1.82     Fitness: 12.33     Mapped Fitness: 69.7\n",
      "x: 0.58     y: -2.2     Fitness: 13.84     Mapped Fitness: 68.69\n",
      "x: 8.72     y: 5.05     Fitness: 14.86     Mapped Fitness: 67.68\n",
      "x: 2.98     y: 7.01     Fitness: 17.92     Mapped Fitness: 66.67\n",
      "x: -3.54     y: -3.34     Fitness: 18.2     Mapped Fitness: 65.66\n",
      "x: -3.88     y: -2.52     Fitness: 18.96     Mapped Fitness: 64.65\n",
      "x: 8.83     y: 4.41     Fitness: 22.19     Mapped Fitness: 63.64\n",
      "x: 1.51     y: 6.02     Fitness: 22.31     Mapped Fitness: 62.63\n",
      "x: -9.9     y: -9.58     Fitness: 22.59     Mapped Fitness: 61.62\n",
      "x: 5.25     y: 5.65     Fitness: 24.81     Mapped Fitness: 60.61\n",
      "x: 8.89     y: 9.63     Fitness: 24.9     Mapped Fitness: 59.6\n",
      "x: -7.84     y: -5.24     Fitness: 32.96     Mapped Fitness: 58.59\n",
      "x: 3.96     y: -0.46     Fitness: 36.67     Mapped Fitness: 57.58\n",
      "x: -0.88     y: -5.51     Fitness: 37.06     Mapped Fitness: 56.57\n",
      "x: 2.27     y: 8.09     Fitness: 37.13     Mapped Fitness: 55.56\n",
      "x: 8.33     y: 9.71     Fitness: 42.29     Mapped Fitness: 54.55\n",
      "x: 4.69     y: -4.2     Fitness: 43.08     Mapped Fitness: 53.54\n",
      "x: 0.08     y: -6.43     Fitness: 44.77     Mapped Fitness: 52.53\n",
      "x: -1.74     y: 9.81     Fitness: 45.24     Mapped Fitness: 51.52\n",
      "x: -5.6     y: -9.43     Fitness: 47.99     Mapped Fitness: 50.51\n",
      "x: -2.06     y: -6.36     Fitness: 52.13     Mapped Fitness: 49.49\n",
      "x: 2.29     y: -4.95     Fitness: 54.02     Mapped Fitness: 48.48\n",
      "x: -3.67     y: -9.27     Fitness: 56.34     Mapped Fitness: 47.47\n",
      "x: -0.15     y: 7.46     Fitness: 59.13     Mapped Fitness: 46.46\n",
      "x: -0.33     y: -9.43     Fitness: 59.35     Mapped Fitness: 45.45\n",
      "x: -2.79     y: 4.9     Fitness: 59.61     Mapped Fitness: 44.44\n",
      "x: 8.46     y: 0.32     Fitness: 68.06     Mapped Fitness: 43.43\n",
      "x: 1.24     y: -6.91     Fitness: 68.22     Mapped Fitness: 42.42\n",
      "x: 2.01     y: -6.17     Fitness: 68.82     Mapped Fitness: 41.41\n",
      "x: 2.98     y: -5.71     Fitness: 77.38     Mapped Fitness: 40.4\n",
      "x: -1.25     y: 7.93     Fitness: 77.86     Mapped Fitness: 39.39\n",
      "x: 6.04     y: -3.56     Fitness: 78.52     Mapped Fitness: 38.38\n",
      "x: 3.27     y: -5.55     Fitness: 80.31     Mapped Fitness: 37.37\n",
      "x: 8.66     y: -0.45     Fitness: 84.68     Mapped Fitness: 36.36\n",
      "x: 2.81     y: -6.78     Fitness: 93.68     Mapped Fitness: 35.35\n",
      "x: -6.07     y: 3.12     Fitness: 94.14     Mapped Fitness: 34.34\n",
      "x: -6.01     y: 3.12     Fitness: 96.37     Mapped Fitness: 33.33\n",
      "x: -4.52     y: 5.38     Fitness: 99.76     Mapped Fitness: 32.32\n",
      "x: 0.98     y: 9.11     Fitness: 102.46     Mapped Fitness: 31.31\n",
      "x: 2.03     y: 9.52     Fitness: 103.16     Mapped Fitness: 30.3\n",
      "x: -8.45     y: 0.98     Fitness: 103.64     Mapped Fitness: 29.29\n",
      "x: -6.39     y: 4.17     Fitness: 108.7     Mapped Fitness: 28.28\n",
      "x: 3.89     y: -5.91     Fitness: 111.04     Mapped Fitness: 27.27\n",
      "x: 3.58     y: -7.09     Fitness: 118.65     Mapped Fitness: 26.26\n",
      "x: -9.33     y: 1.76     Fitness: 121.98     Mapped Fitness: 25.25\n",
      "x: -3.28     y: 7.82     Fitness: 123.63     Mapped Fitness: 24.24\n",
      "x: -6.01     y: 5.34     Fitness: 130.14     Mapped Fitness: 23.23\n",
      "x: 3.96     y: -8.43     Fitness: 134.71     Mapped Fitness: 22.22\n",
      "x: -4.16     y: 7.4     Fitness: 135.25     Mapped Fitness: 21.21\n",
      "x: -6.2     y: 5.48     Fitness: 138.12     Mapped Fitness: 20.2\n",
      "x: 2.75     y: -8.79     Fitness: 141.92     Mapped Fitness: 19.19\n",
      "x: 9.67     y: -3.38     Fitness: 153.9     Mapped Fitness: 18.18\n",
      "x: 2.26     y: -9.13     Fitness: 164.25     Mapped Fitness: 17.17\n",
      "x: -8.73     y: 4.52     Fitness: 170.1     Mapped Fitness: 16.16\n",
      "x: -5.26     y: 7.98     Fitness: 178.2     Mapped Fitness: 15.15\n",
      "x: -6.83     y: 7.17     Fitness: 201.77     Mapped Fitness: 14.14\n",
      "x: 7.01     y: -7.17     Fitness: 202.54     Mapped Fitness: 13.13\n",
      "x: 7.06     y: -7.78     Fitness: 221.96     Mapped Fitness: 12.12\n",
      "x: 9.49     y: -5.54     Fitness: 228.12     Mapped Fitness: 11.11\n",
      "x: 9.46     y: -5.68     Fitness: 231.59     Mapped Fitness: 10.1\n",
      "x: -6.32     y: 9.11     Fitness: 233.64     Mapped Fitness: 9.09\n",
      "x: 8.99     y: -6.38     Fitness: 238.05     Mapped Fitness: 8.08\n",
      "x: -7.5     y: 6.63     Fitness: 238.94     Mapped Fitness: 7.07\n",
      "x: 7.94     y: -7.78     Fitness: 249.54     Mapped Fitness: 6.06\n",
      "x: 6.48     y: -9.36     Fitness: 259.59     Mapped Fitness: 5.05\n",
      "x: 9.66     y: -6.96     Fitness: 279.55     Mapped Fitness: 4.04\n",
      "x: -9.94     y: 7.02     Fitness: 289.13     Mapped Fitness: 3.03\n",
      "x: -8.75     y: 9.68     Fitness: 296.11     Mapped Fitness: 2.02\n",
      "x: -9.17     y: 8.9     Fitness: 314.2     Mapped Fitness: 1.01\n",
      "x: 8.72     y: -9.03     Fitness: 340.18     Mapped Fitness: 0.0\n"
     ]
    }
   ],
   "source": [
    "N = 100\n",
    "\n",
    "chromosome = []\n",
    "for i in range(N):\n",
    "    chromosome.append(generateChromosome())\n",
    "    chromosome[i].calculateFitness(fitnessFunction)\n",
    "\n",
    "chromosome = sortChromosomes(chromosome)\n",
    "\n",
    "for i in range(N):\n",
    "    chromosome[i].calculateMapFitness(linearMappingFunction, i + 1, N)\n",
    "\n",
    "for i in chromosome:\n",
    "    print(i.__str__())"
   ]
  }
 ],
 "metadata": {
  "kernelspec": {
   "display_name": "Python 3.10.7 64-bit",
   "language": "python",
   "name": "python3"
  },
  "language_info": {
   "codemirror_mode": {
    "name": "ipython",
    "version": 3
   },
   "file_extension": ".py",
   "mimetype": "text/x-python",
   "name": "python",
   "nbconvert_exporter": "python",
   "pygments_lexer": "ipython3",
   "version": "3.10.7"
  },
  "orig_nbformat": 4,
  "vscode": {
   "interpreter": {
    "hash": "6816d2fcae49cb29c2c4546524e9abb1604692b37c89c8f503ee0bc7afd63403"
   }
  }
 },
 "nbformat": 4,
 "nbformat_minor": 2
}
