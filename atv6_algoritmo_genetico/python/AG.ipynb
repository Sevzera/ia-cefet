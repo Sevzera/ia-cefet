{
 "cells": [
  {
   "cell_type": "code",
   "execution_count": 1,
   "metadata": {},
   "outputs": [],
   "source": [
    "from src.chromosome import Chromosome\n",
    "import numpy as np"
   ]
  },
  {
   "cell_type": "code",
   "execution_count": 2,
   "metadata": {},
   "outputs": [],
   "source": [
    "def fitnessFunction(x, y):\n",
    "    result = (\n",
    "        np.sin(x) * np.exp((1 - np.cos(y))**2) +\n",
    "        np.cos(y) * np.exp((1 - np.sin(x))**2) +\n",
    "        (x - y)**2\n",
    "    )\n",
    "    return round(result, 2)"
   ]
  },
  {
   "cell_type": "code",
   "execution_count": 3,
   "metadata": {},
   "outputs": [],
   "source": [
    "def linearMappingFunction(i, N):\n",
    "    min = 0\n",
    "    max = 100\n",
    "    result = min + (max - min) * ((N - i) / (N - 1))\n",
    "    return round(result)"
   ]
  },
  {
   "cell_type": "code",
   "execution_count": 4,
   "metadata": {},
   "outputs": [],
   "source": [
    "def crossover (mother, father):\n",
    "\tmotherXRate = np.random.rand()\n",
    "\tfatherXRate = 1 - motherXRate\n",
    "\tx = round(motherXRate * mother.x + fatherXRate * father.x, 5)\n",
    "\n",
    "\tmotherYRate = np.random.rand()\n",
    "\tfatherYRate = 1 - motherXRate\n",
    "\ty = round(motherYRate * mother.y + fatherYRate * father.y, 5)\n",
    "\n",
    "\treturn Chromosome(x, y)"
   ]
  },
  {
   "cell_type": "code",
   "execution_count": 5,
   "metadata": {},
   "outputs": [],
   "source": [
    "def generateChromosome():\n",
    "    return Chromosome(\n",
    "        round(np.random.uniform(-10, 10), 5),\n",
    "        round(np.random.uniform(-10, 10), 5)\n",
    "    )"
   ]
  },
  {
   "cell_type": "code",
   "execution_count": 6,
   "metadata": {},
   "outputs": [],
   "source": [
    "def sortChromosomes(chromosomes):\n",
    "    return sorted(chromosomes, key=lambda chromosome: chromosome.fitness)"
   ]
  },
  {
   "cell_type": "code",
   "execution_count": 23,
   "metadata": {},
   "outputs": [
    {
     "name": "stdout",
     "output_type": "stream",
     "text": [
      "x: -1.59702     y: -3.13839     Fitness: -106.73     Mapped Fitness: 100\n"
     ]
    }
   ],
   "source": [
    "N = 100\n",
    "Nsum = 5050\n",
    "\n",
    "chromosome_pop = []\n",
    "for i in range(N):\n",
    "    chromosome_pop.append(generateChromosome())\n",
    "    chromosome_pop[i].calculateFitness(fitnessFunction)\n",
    "\n",
    "chromosome_pop = sortChromosomes(chromosome_pop)\n",
    "\n",
    "for i in range(N):\n",
    "    chromosome_pop[i].calculateMapFitness(linearMappingFunction, i + 1, N)\n",
    "\n",
    "# for i in chromosome_pop:\n",
    "#     print(i.__str__())\n",
    "\n",
    "children = []\n",
    "for i in range(N):\n",
    "\tchildren.append(0)\n",
    "\n",
    "n = 0\n",
    "\n",
    "while (n < 1000):\n",
    "\tpairs = []\n",
    "\tfor i in range(0, N):\n",
    "\t\todd = round(np.random.rand() * Nsum)\n",
    "\t\tsum = 0\n",
    "\t\tfor j in range(1, N):\n",
    "\t\t\tsum += j\n",
    "\t\t\tif (sum >= odd): break\n",
    "\t\taux = None\n",
    "\t\tfor individual in chromosome_pop:\n",
    "\t\t\t# print(individual.mappedFitness, j)\n",
    "\t\t\tif (individual.mappedFitness == j):\n",
    "\t\t\t\taux = individual\n",
    "\t\t\t\tpairs.append(individual)\t\t\t\t\n",
    "\t\t\t\tbreak\n",
    "\t\tif aux == None:\n",
    "\t\t\tpairs.append(chromosome_pop[0])\n",
    "\t\t\n",
    "\t# print('pairs = ' + str(pairs.__len__()))\n",
    "\t# print(pairs)\n",
    "\n",
    "\tfor i in range(0, N, 2):\n",
    "\t\t# print(i, pairs[i], pairs[i+1])\n",
    "\t\tif np.random.rand() < 0.7:\n",
    "\t\t\tchildren[i] = crossover(pairs[i], pairs[i + 1])\n",
    "\t\t\tchildren[i + 1] = crossover(pairs[i], pairs[i + 1])\n",
    "\t\telse:\n",
    "\t\t\tchildren[i] = Chromosome(pairs[i].x, pairs[i].y)\n",
    "\t\t\tchildren[i + 1] = Chromosome(pairs[i + 1].x, pairs[i + 1].y)\n",
    "\t\t\n",
    "\t\tchildren[i].calculateFitness(fitnessFunction)\n",
    "\t\tchildren[i + 1].calculateFitness(fitnessFunction)\n",
    "\n",
    "\t\tchildren[i].tryToMutate()\n",
    "\t\tchildren[i + 1].tryToMutate()\n",
    "\n",
    "\t# print('children = ' + str(children.__len__()))\n",
    "\t# print(children)\n",
    "\t# for child in children:\n",
    "\t# \tprint(child.__str__())\n",
    "\tchildren = sortChromosomes(children)\n",
    "\n",
    "\tfor i in range(N):\n",
    "\t\tchildren[i].calculateMapFitness(linearMappingFunction, i + 1, N)\n",
    "\n",
    "\tchromosome_pop = children\n",
    "\n",
    "\tn += 1\n",
    "\t# print(n)\n",
    "\n",
    "print(chromosome_pop[0])"
   ]
  }
 ],
 "metadata": {
  "kernelspec": {
   "display_name": "Python 3.10.8 64-bit",
   "language": "python",
   "name": "python3"
  },
  "language_info": {
   "codemirror_mode": {
    "name": "ipython",
    "version": 3
   },
   "file_extension": ".py",
   "mimetype": "text/x-python",
   "name": "python",
   "nbconvert_exporter": "python",
   "pygments_lexer": "ipython3",
   "version": "3.10.8"
  },
  "orig_nbformat": 4,
  "vscode": {
   "interpreter": {
    "hash": "9c23655dfc81f25eb49cf6d542f6a714b0e89aea3129bba152fa2e8db482a8db"
   }
  }
 },
 "nbformat": 4,
 "nbformat_minor": 2
}
