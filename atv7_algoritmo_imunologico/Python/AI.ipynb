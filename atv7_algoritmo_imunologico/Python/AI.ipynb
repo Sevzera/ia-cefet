{
 "cells": [
  {
   "cell_type": "markdown",
   "metadata": {},
   "source": [
    "# Trabalho de algoritmo imunologico\n",
    "* Arthur Severo de Souza\n",
    "* Victor Le Roy Matos"
   ]
  },
  {
   "cell_type": "code",
   "execution_count": 259,
   "metadata": {},
   "outputs": [],
   "source": [
    "# Imports\n",
    "\n",
    "import numpy as np\n",
    "import matplotlib.pyplot as plt\n",
    "\n",
    "from src.Individual import Individual"
   ]
  },
  {
   "cell_type": "code",
   "execution_count": 260,
   "metadata": {},
   "outputs": [],
   "source": [
    "# Definindo variaveis globais\n",
    "MAX_IT = 50\n",
    "N = 50\n",
    "N1 = 50\n",
    "N2 = 0\n",
    "BETA = 0.1\n",
    "NC = BETA * N #  Define o número de clones a ser gerado para cada anticorpo\n",
    "RO = 0.1 # Parâmetro da equação de mutação\n",
    "MUTATION_RATE = 0.3 # Taxa de mutação"
   ]
  },
  {
   "cell_type": "code",
   "execution_count": 261,
   "metadata": {},
   "outputs": [],
   "source": [
    "# Bird function\n",
    "def fitnessFunction(x, y):\n",
    "    result = (\n",
    "        np.sin(x) * np.exp((1 - np.cos(y))**2) +\n",
    "        np.cos(y) * np.exp((1 - np.sin(x))**2) +\n",
    "        (x - y)**2\n",
    "    )\n",
    "    return round(result, 2)"
   ]
  },
  {
   "cell_type": "code",
   "execution_count": 262,
   "metadata": {},
   "outputs": [],
   "source": [
    "def cloneAntibodies(P):\n",
    "    C = []\n",
    "    for p in P:\n",
    "        for i in range(int(NC)):\n",
    "            r = Individual(p.x, p.y)\n",
    "            C.append(r)\n",
    "    return C"
   ]
  },
  {
   "cell_type": "code",
   "execution_count": 263,
   "metadata": {},
   "outputs": [],
   "source": [
    "def generateIndividuals():\n",
    "    S = []\n",
    "    for i in range(N):\n",
    "        S.append(Individual(np.random.uniform(-10, 10), np.random.uniform(-10, 10)))\n",
    "    return S"
   ]
  },
  {
   "cell_type": "code",
   "execution_count": 264,
   "metadata": {},
   "outputs": [],
   "source": [
    "def clonalgOPT():\n",
    "    P = generateIndividuals()\n",
    "    t = 1\n",
    "    while t <= MAX_IT:\n",
    "        for p in P:\n",
    "            p.calculateFitness(fitnessFunction)\n",
    "        P.sort(key=lambda x: x.fitness, reverse=False)\n",
    "        P1 = P[:N1]\n",
    "        C = cloneAntibodies(P1)\n",
    "        for c in C:\n",
    "            c.tryToMutate(RO, MUTATION_RATE)\n",
    "            c.calculateFitness(fitnessFunction)\n",
    "        C.sort(key=lambda x: x.fitness, reverse=False)\n",
    "        P2 = C[:N1]\n",
    "        P = P2\n",
    "        t = t + 1\n",
    "    return P"
   ]
  },
  {
   "cell_type": "code",
   "execution_count": 265,
   "metadata": {},
   "outputs": [
    {
     "name": "stdout",
     "output_type": "stream",
     "text": [
      "Best solution:  x: 4.74603     y: 9.38447     Fitness: -87.31\n"
     ]
    }
   ],
   "source": [
    "antibody_population = clonalgOPT()\n",
    "print(\"Best solution: \", antibody_population[0])"
   ]
  }
 ],
 "metadata": {
  "kernelspec": {
   "display_name": "Python 3.10.8 64-bit",
   "language": "python",
   "name": "python3"
  },
  "language_info": {
   "codemirror_mode": {
    "name": "ipython",
    "version": 3
   },
   "file_extension": ".py",
   "mimetype": "text/x-python",
   "name": "python",
   "nbconvert_exporter": "python",
   "pygments_lexer": "ipython3",
   "version": "3.10.8"
  },
  "orig_nbformat": 4,
  "vscode": {
   "interpreter": {
    "hash": "9c23655dfc81f25eb49cf6d542f6a714b0e89aea3129bba152fa2e8db482a8db"
   }
  }
 },
 "nbformat": 4,
 "nbformat_minor": 2
}
