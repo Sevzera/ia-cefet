{
 "cells": [
  {
   "cell_type": "markdown",
   "metadata": {},
   "source": [
    "# Trabalho de algoritmo imunologico\n",
    "* Arthur Severo de Souza\n",
    "* Victor Le Roy Matos"
   ]
  },
  {
   "cell_type": "code",
   "execution_count": 110,
   "metadata": {},
   "outputs": [],
   "source": [
    "# Imports\n",
    "import numpy as np\n",
    "import matplotlib.pyplot as plt"
   ]
  },
  {
   "cell_type": "code",
   "execution_count": 111,
   "metadata": {},
   "outputs": [],
   "source": [
    "# Definindo variaveis globais\n",
    "MAX_IT = 50\n",
    "N = 50\n",
    "N1 = 50\n",
    "N2 = 0\n",
    "BETA = 0.1\n",
    "NC = BETA * N #  Define o número de clones a ser gerado para cada anticorpo\n",
    "RO = 0.1 # Parâmetro da equação de mutação\n",
    "MUTATION_RATE = 0.3 # Taxa de mutação"
   ]
  },
  {
   "cell_type": "code",
   "execution_count": 112,
   "metadata": {},
   "outputs": [],
   "source": [
    "class Individual:\n",
    "    def __init__(self, x, y):\n",
    "        self.x = x\n",
    "        self.y = y\n",
    "        self.fitness = None\n",
    "\n",
    "    def __str__(self):\n",
    "        return (\n",
    "            \"x: \" + str(self.x) + \"     \" +\n",
    "            \"y: \" + str(self.y) + \"     \" +\n",
    "            \"Fitness: \" + str(self.fitness)\n",
    "        )\n",
    "\n",
    "    def calculateFitness(self, fitnessFunction):\n",
    "        self.fitness = fitnessFunction(self.x, self.y)\n",
    "\n",
    "    def tryToMutate(self, local_search, mutate_rate):\n",
    "        if np.random.rand() < mutate_rate:\n",
    "            xNeg = self.x - (self.x*local_search)\n",
    "            xPos = self.x + (self.x*local_search)\n",
    "            self.x = round(np.random.uniform(xNeg, xPos), 5)\n",
    "        if np.random.rand() < mutate_rate:\n",
    "            yNeg = self.y - (self.y*local_search)\n",
    "            yPos = self.y + (self.y*local_search)\n",
    "            self.y = round(np.random.uniform(yNeg, yPos), 5)"
   ]
  },
  {
   "cell_type": "code",
   "execution_count": 113,
   "metadata": {},
   "outputs": [],
   "source": [
    "# Bird function\n",
    "def fitnessFunction(x, y):\n",
    "    result = (\n",
    "        np.sin(x) * np.exp((1 - np.cos(y))**2) +\n",
    "        np.cos(y) * np.exp((1 - np.sin(x))**2) +\n",
    "        (x - y)**2\n",
    "    )\n",
    "    return round(result, 2)"
   ]
  },
  {
   "cell_type": "code",
   "execution_count": 114,
   "metadata": {},
   "outputs": [],
   "source": [
    "def cloneAntibodies(P):\n",
    "    C = []\n",
    "    for p in P:\n",
    "        for i in range(int(NC)):\n",
    "            r = Individual(p.x, p.y)\n",
    "            C.append(r)\n",
    "    return C"
   ]
  },
  {
   "cell_type": "code",
   "execution_count": 115,
   "metadata": {},
   "outputs": [],
   "source": [
    "def generateIndividuals():\n",
    "    S = []\n",
    "    for i in range(N):\n",
    "        S.append(Individual(np.random.uniform(-10, 10), np.random.uniform(-10, 10)))\n",
    "    return S"
   ]
  },
  {
   "cell_type": "code",
   "execution_count": 116,
   "metadata": {},
   "outputs": [],
   "source": [
    "def clonalgOPT():\n",
    "\n",
    "    fitness_sum_med = []\n",
    "    fitness_sum_min = []\n",
    "    fitness_sum_max = []\n",
    "\n",
    "    P = generateIndividuals()\n",
    "    t = 1\n",
    "    while t <= MAX_IT:\n",
    "        for p in P:\n",
    "            p.calculateFitness(fitnessFunction)\n",
    "        P.sort(key=lambda x: x.fitness, reverse=False)\n",
    "        P1 = P[:N1]\n",
    "        C = cloneAntibodies(P1)\n",
    "        for c in C:\n",
    "            c.tryToMutate(RO, MUTATION_RATE)\n",
    "            c.calculateFitness(fitnessFunction)\n",
    "        C.sort(key=lambda x: x.fitness, reverse=False)\n",
    "        P2 = C[:N1]\n",
    "        P = P2\n",
    "        t = t + 1\n",
    "        \n",
    "        f_sum = 0\n",
    "        for i in P:\n",
    "            f_sum += i.fitness\n",
    "        fitness_sum_med.append(f_sum / N)\n",
    "        fitness_sum_min.append(P[len(P)-1].fitness)\n",
    "        fitness_sum_max.append(P[0].fitness)\n",
    "\n",
    "    return P, fitness_sum_med, fitness_sum_min, fitness_sum_max"
   ]
  },
  {
   "cell_type": "code",
   "execution_count": 117,
   "metadata": {},
   "outputs": [
    {
     "name": "stdout",
     "output_type": "stream",
     "text": [
      "Best solution:  x: 10.98755     y: 9.43591     Fitness: -106.76\n"
     ]
    },
    {
     "data": {
      "image/png": "[encoded data removed]",
      "text/plain": [
       "<Figure size 640x480 with 1 Axes>"
      ]
     },
     "metadata": {},
     "output_type": "display_data"
    }
   ],
   "source": [
    "antibody_population, fitness_sum_med, fitness_sum_min, fitness_sum_max = clonalgOPT()\n",
    "\n",
    "print(\"Best solution: \", antibody_population[0])\n",
    "\n",
    "plt.plot(fitness_sum_med, label='Media do fitness geral')\n",
    "plt.plot(fitness_sum_min, label='Pior fitness')\n",
    "plt.plot(fitness_sum_max, label='Melhor fitness')\n",
    "plt.title('Fitness')\n",
    "plt.legend()\n",
    "plt.show()"
   ]
  }
 ],
 "metadata": {
  "kernelspec": {
   "display_name": "Python 3.10.8 64-bit",
   "language": "python",
   "name": "python3"
  },
  "language_info": {
   "codemirror_mode": {
    "name": "ipython",
    "version": 3
   },
   "file_extension": ".py",
   "mimetype": "text/x-python",
   "name": "python",
   "nbconvert_exporter": "python",
   "pygments_lexer": "ipython3",
   "version": "3.10.8"
  },
  "orig_nbformat": 4,
  "vscode": {
   "interpreter": {
    "hash": "9c23655dfc81f25eb49cf6d542f6a714b0e89aea3129bba152fa2e8db482a8db"
   }
  }
 },
 "nbformat": 4,
 "nbformat_minor": 2
}
